{
 "cells": [
  {
   "cell_type": "markdown",
   "id": "d6a0ff43",
   "metadata": {},
   "source": [
    "## 데이터 보기: 데이터 구조를 이해하는 기술\n",
    " - 판다스에서 가장 많이 사용되는 구조"
   ]
  },
  {
   "cell_type": "markdown",
   "id": "b6f9bf2f",
   "metadata": {},
   "source": [
    "### 1. 판다스 데이터\n",
    " - 1차원 자료구조인 시리즈(series)\n",
    " - 2차원 자료구조인 데이터프레임을 지원\n",
    "  1. Column 하나하나 -> 시리즈(Series)\n",
    "  2. Row, Column의 조합 -> 데이터프레임(시리즈, 데이터프레임 모두 칼럼명을 포함하지 않음)\n",
    " "
   ]
  },
  {
   "cell_type": "markdown",
   "id": "566b1522",
   "metadata": {},
   "source": [
    "### 2. 데이터 구조 시리즈\n",
    " - 시리즈(Series): 모든 데이터 유형을 저장할 수 있는 1차원 레이블이 지정된 배열\n",
    " - 열 레이블을 총칭하여 인덱스라고 함\n",
    " - 딕셔너리, 리스트, 튜플 등으로 만들 수 있음(인덱스와 짝지어진 데이터로 이루어져있음)\n",
    "\n",
    "#### 2.1 시리즈 만들기(딕셔너리, 리스트, 튜플)"
   ]
  },
  {
   "cell_type": "code",
   "execution_count": 3,
   "id": "cb7c6b0f",
   "metadata": {},
   "outputs": [],
   "source": [
    "# 라이브러리 불러들이기\n",
    "import pandas as pd"
   ]
  },
  {
   "cell_type": "code",
   "execution_count": 7,
   "id": "4815a991",
   "metadata": {},
   "outputs": [
    {
     "data": {
      "text/plain": [
       "00       Doc\n",
       "11       Cat\n",
       "22     Tiger\n",
       "33      Lion\n",
       "44    Monkey\n",
       "dtype: object"
      ]
     },
     "execution_count": 7,
     "metadata": {},
     "output_type": "execute_result"
    }
   ],
   "source": [
    "sd1 = pd.Series(['Doc','Cat','Tiger','Lion','Monkey'],\n",
    "               index = ['00','11','22','33','44']) #인덱스번호는 지정안하면 0부터 자동으로 지정된다\n",
    "\n",
    "sd1"
   ]
  },
  {
   "cell_type": "code",
   "execution_count": 12,
   "id": "a3dc35b2",
   "metadata": {},
   "outputs": [
    {
     "data": {
      "text/plain": [
       "{'a': 1, 'b': 2, 'c': 3}"
      ]
     },
     "execution_count": 12,
     "metadata": {},
     "output_type": "execute_result"
    }
   ],
   "source": [
    "# 딕셔너리 -> 시리즈로\n",
    "dict_data = {'a' : 1, 'b' : 2, 'c' : 3}\n",
    "\n",
    "dict_data"
   ]
  },
  {
   "cell_type": "code",
   "execution_count": 14,
   "id": "4281f4ab",
   "metadata": {},
   "outputs": [
    {
     "data": {
      "text/plain": [
       "a    1\n",
       "b    2\n",
       "c    3\n",
       "dtype: int64"
      ]
     },
     "execution_count": 14,
     "metadata": {},
     "output_type": "execute_result"
    }
   ],
   "source": [
    "sd2 = pd.Series(dict_data)\n",
    "\n",
    "sd2"
   ]
  },
  {
   "cell_type": "code",
   "execution_count": 47,
   "id": "61af2791",
   "metadata": {},
   "outputs": [
    {
     "data": {
      "text/plain": [
       "pandas.core.series.Series"
      ]
     },
     "execution_count": 47,
     "metadata": {},
     "output_type": "execute_result"
    }
   ],
   "source": [
    "# 변수 타입 확인하기\n",
    "type(sd2)"
   ]
  },
  {
   "cell_type": "code",
   "execution_count": 19,
   "id": "8f932af6",
   "metadata": {},
   "outputs": [
    {
     "name": "stdout",
     "output_type": "stream",
     "text": [
      "0      Dog\n",
      "1      Cat\n",
      "2    Tiger\n",
      "dtype: object\n"
     ]
    },
    {
     "data": {
      "text/plain": [
       "pandas.core.series.Series"
      ]
     },
     "execution_count": 19,
     "metadata": {},
     "output_type": "execute_result"
    }
   ],
   "source": [
    "# 리스트 -> 시리즈로\n",
    "list_data = ['Dog','Cat','Tiger']\n",
    "sd3 = pd.Series(list_data)\n",
    "\n",
    "print(sd3)\n",
    "type(sd2)"
   ]
  },
  {
   "cell_type": "code",
   "execution_count": 21,
   "id": "cce54e76",
   "metadata": {},
   "outputs": [
    {
     "data": {
      "text/plain": [
       "('이순신', '1991-03-15', '남자')"
      ]
     },
     "execution_count": 21,
     "metadata": {},
     "output_type": "execute_result"
    }
   ],
   "source": [
    "# 튜플 -> 시리즈로-\n",
    "# '이순신', '1991-03-15', '남자'\n",
    "# 위 데이터를 튜플로 만들어 주세요.\n",
    "\n",
    "tup_data = ('이순신', '1991-03-15', '남자')\n",
    "\n",
    "tup_data"
   ]
  },
  {
   "cell_type": "code",
   "execution_count": 22,
   "id": "17b122b9",
   "metadata": {},
   "outputs": [
    {
     "data": {
      "text/plain": [
       "tuple"
      ]
     },
     "execution_count": 22,
     "metadata": {},
     "output_type": "execute_result"
    }
   ],
   "source": [
    "type(tup_data)"
   ]
  },
  {
   "cell_type": "code",
   "execution_count": 26,
   "id": "e7e11096",
   "metadata": {},
   "outputs": [
    {
     "name": "stdout",
     "output_type": "stream",
     "text": [
      "이름             이순신\n",
      "생년월일    1991-03-15\n",
      "성별              남자\n",
      "dtype: object\n"
     ]
    },
    {
     "data": {
      "text/plain": [
       "pandas.core.series.Series"
      ]
     },
     "execution_count": 26,
     "metadata": {},
     "output_type": "execute_result"
    }
   ],
   "source": [
    "col_name = [\"이름\",\"생년월일\",\"성별\"]\n",
    "sd4 = pd.Series(tup_data,\n",
    "               index = col_name) # 인덱스 지정하기\n",
    "\n",
    "print(sd4)\n",
    "type(sd4)"
   ]
  },
  {
   "cell_type": "markdown",
   "id": "3f1435c3",
   "metadata": {},
   "source": [
    "### 3. 데이터프레임 구조\n",
    " - 데이터프레임은 엑셀의 스프레드시트 형태로 행과 열 자료구조\n",
    " - 각 열에서는 서로 다른 종류의 값(숫자, 문자열, 불리언 등)을 가짐\n",
    " - 시리즈가 복수개 합쳐진 것\n",
    " - 파이썬 데이터프레임은 판다스에서 제공하는 기본구조\n",
    " - 데이터 분석시 가장 많이 보게 되는 구조\n",
    "  1. 데이터 프레임을 딕셔너리와 리스트로 만드는 차이점\n",
    "  2. 딕셔너리로 만들면 데이터프레임의 열(Column)을 하나씩 쌓아가는 형태\n",
    "  3. 리스트로 만들면 행(Row)을 하나씩 쌓아가는 형태\n",
    "\n",
    "#### 3.1 데이터 프레임 만들기"
   ]
  },
  {
   "cell_type": "code",
   "execution_count": 33,
   "id": "b15d27f9",
   "metadata": {},
   "outputs": [
    {
     "data": {
      "text/plain": [
       "{'동물': ['Dog', 'Cat', 'Tiger', 'Lion', 'Monkey'], '나이': [7, 9, 2, 3, 1]}"
      ]
     },
     "execution_count": 33,
     "metadata": {},
     "output_type": "execute_result"
    }
   ],
   "source": [
    "# 딕셔너리 -> 데이터프레임으로\n",
    "# 동물 : 'Dog','Cat','Tiger','Lion','Monkey'\n",
    "# 나이 : 7,9,2,3,1\n",
    "# 위에 동물과 나이를 하나의 딕셔너리로 만들어주세요\n",
    "\n",
    "dict_data = {'동물': ['Dog','Cat','Tiger','Lion','Monkey'], \n",
    "             '나이' : [7,9,2,3,1]}\n",
    "dict_data"
   ]
  },
  {
   "cell_type": "code",
   "execution_count": 39,
   "id": "e2fce68d",
   "metadata": {},
   "outputs": [
    {
     "data": {
      "text/html": [
       "<div>\n",
       "<style scoped>\n",
       "    .dataframe tbody tr th:only-of-type {\n",
       "        vertical-align: middle;\n",
       "    }\n",
       "\n",
       "    .dataframe tbody tr th {\n",
       "        vertical-align: top;\n",
       "    }\n",
       "\n",
       "    .dataframe thead th {\n",
       "        text-align: right;\n",
       "    }\n",
       "</style>\n",
       "<table border=\"1\" class=\"dataframe\">\n",
       "  <thead>\n",
       "    <tr style=\"text-align: right;\">\n",
       "      <th></th>\n",
       "      <th>동물</th>\n",
       "      <th>나이</th>\n",
       "    </tr>\n",
       "  </thead>\n",
       "  <tbody>\n",
       "    <tr>\n",
       "      <th>0</th>\n",
       "      <td>Dog</td>\n",
       "      <td>7</td>\n",
       "    </tr>\n",
       "    <tr>\n",
       "      <th>1</th>\n",
       "      <td>Cat</td>\n",
       "      <td>9</td>\n",
       "    </tr>\n",
       "    <tr>\n",
       "      <th>2</th>\n",
       "      <td>Tiger</td>\n",
       "      <td>2</td>\n",
       "    </tr>\n",
       "    <tr>\n",
       "      <th>3</th>\n",
       "      <td>Lion</td>\n",
       "      <td>3</td>\n",
       "    </tr>\n",
       "    <tr>\n",
       "      <th>4</th>\n",
       "      <td>Monkey</td>\n",
       "      <td>1</td>\n",
       "    </tr>\n",
       "  </tbody>\n",
       "</table>\n",
       "</div>"
      ],
      "text/plain": [
       "       동물  나이\n",
       "0     Dog   7\n",
       "1     Cat   9\n",
       "2   Tiger   2\n",
       "3    Lion   3\n",
       "4  Monkey   1"
      ]
     },
     "execution_count": 39,
     "metadata": {},
     "output_type": "execute_result"
    }
   ],
   "source": [
    "# 데이터프레임으로 만들기\n",
    "df1 = pd.DataFrame(dict_data)\n",
    "df1"
   ]
  },
  {
   "cell_type": "code",
   "execution_count": 38,
   "id": "4c1ac79d",
   "metadata": {},
   "outputs": [
    {
     "data": {
      "text/plain": [
       "pandas.core.frame.DataFrame"
      ]
     },
     "execution_count": 38,
     "metadata": {},
     "output_type": "execute_result"
    }
   ],
   "source": [
    "type(df1)"
   ]
  },
  {
   "cell_type": "code",
   "execution_count": 42,
   "id": "f4d2cef5",
   "metadata": {},
   "outputs": [
    {
     "data": {
      "text/plain": [
       "[['Dog', 7], ['Cat', 9], ['Tiger', 2], ['Lion', 3], ['Monkey', 1]]"
      ]
     },
     "execution_count": 42,
     "metadata": {},
     "output_type": "execute_result"
    }
   ],
   "source": [
    "# 리스트 -> 데이터프레임으로\n",
    "list_data = [['Dog',7],\n",
    "             ['Cat',9],\n",
    "             ['Tiger',2],\n",
    "             ['Lion',3],\n",
    "             ['Monkey',1]]\n",
    "\n",
    "list_data # 5행 2열의 데이터구조"
   ]
  },
  {
   "cell_type": "code",
   "execution_count": 49,
   "id": "ec8b4c86",
   "metadata": {
    "scrolled": true
   },
   "outputs": [
    {
     "name": "stdout",
     "output_type": "stream",
     "text": [
      "       동물  나이\n",
      "0     Dog   7\n",
      "1     Cat   9\n",
      "2   Tiger   2\n",
      "3    Lion   3\n",
      "4  Monkey   1\n",
      "<class 'pandas.core.frame.DataFrame'>\n",
      "동물    object\n",
      "나이     int64\n",
      "dtype: object\n"
     ]
    }
   ],
   "source": [
    "# 데이터프레임으로 만들기\n",
    "df2 = pd.DataFrame(list_data,\n",
    "                  columns = [\"동물\",\"나이\"]) # 컬럼명 지정하기, 변수로 만들어 넣어도 됨\n",
    "\n",
    "print(df2) # 행과 열에 대한 인덱스는 다 부여되어있음\n",
    "print(type(df2))\n",
    "print(df2.dtypes) #각 열의 데이터 타입을 알고자 할때"
   ]
  },
  {
   "cell_type": "code",
   "execution_count": 52,
   "id": "8f0f4912",
   "metadata": {},
   "outputs": [
    {
     "data": {
      "text/html": [
       "<div>\n",
       "<style scoped>\n",
       "    .dataframe tbody tr th:only-of-type {\n",
       "        vertical-align: middle;\n",
       "    }\n",
       "\n",
       "    .dataframe tbody tr th {\n",
       "        vertical-align: top;\n",
       "    }\n",
       "\n",
       "    .dataframe thead th {\n",
       "        text-align: right;\n",
       "    }\n",
       "</style>\n",
       "<table border=\"1\" class=\"dataframe\">\n",
       "  <thead>\n",
       "    <tr style=\"text-align: right;\">\n",
       "      <th></th>\n",
       "    </tr>\n",
       "  </thead>\n",
       "  <tbody>\n",
       "  </tbody>\n",
       "</table>\n",
       "</div>"
      ],
      "text/plain": [
       "Empty DataFrame\n",
       "Columns: []\n",
       "Index: []"
      ]
     },
     "execution_count": 52,
     "metadata": {},
     "output_type": "execute_result"
    }
   ],
   "source": [
    "# 비어있는 데이터프레임 만들기\n",
    "df_null = pd.DataFrame()\n",
    "\n",
    "df_null"
   ]
  },
  {
   "cell_type": "code",
   "execution_count": 53,
   "id": "543b2ef4",
   "metadata": {},
   "outputs": [
    {
     "data": {
      "text/html": [
       "<div>\n",
       "<style scoped>\n",
       "    .dataframe tbody tr th:only-of-type {\n",
       "        vertical-align: middle;\n",
       "    }\n",
       "\n",
       "    .dataframe tbody tr th {\n",
       "        vertical-align: top;\n",
       "    }\n",
       "\n",
       "    .dataframe thead th {\n",
       "        text-align: right;\n",
       "    }\n",
       "</style>\n",
       "<table border=\"1\" class=\"dataframe\">\n",
       "  <thead>\n",
       "    <tr style=\"text-align: right;\">\n",
       "      <th></th>\n",
       "      <th>동물</th>\n",
       "    </tr>\n",
       "  </thead>\n",
       "  <tbody>\n",
       "  </tbody>\n",
       "</table>\n",
       "</div>"
      ],
      "text/plain": [
       "Empty DataFrame\n",
       "Columns: [동물]\n",
       "Index: []"
      ]
     },
     "execution_count": 53,
     "metadata": {},
     "output_type": "execute_result"
    }
   ],
   "source": [
    "# 컬럼(변수) 만들기\n",
    "df_null[\"동물\"] = \"Dog\"\n",
    "\n",
    "df_null"
   ]
  },
  {
   "cell_type": "code",
   "execution_count": null,
   "id": "97c1205e",
   "metadata": {},
   "outputs": [],
   "source": []
  }
 ],
 "metadata": {
  "kernelspec": {
   "display_name": "Python 3 (ipykernel)",
   "language": "python",
   "name": "python3"
  },
  "language_info": {
   "codemirror_mode": {
    "name": "ipython",
    "version": 3
   },
   "file_extension": ".py",
   "mimetype": "text/x-python",
   "name": "python",
   "nbconvert_exporter": "python",
   "pygments_lexer": "ipython3",
   "version": "3.9.7"
  }
 },
 "nbformat": 4,
 "nbformat_minor": 5
}

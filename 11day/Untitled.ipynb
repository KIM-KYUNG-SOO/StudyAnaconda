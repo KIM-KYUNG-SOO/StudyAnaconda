{
 "cells": [
  {
   "cell_type": "markdown",
   "id": "66fb04da",
   "metadata": {},
   "source": [
    "### 통계분석"
   ]
  },
  {
   "cell_type": "code",
   "execution_count": 1,
   "id": "dfb7e647",
   "metadata": {},
   "outputs": [],
   "source": [
    "# 사용되는 라이브러리\n",
    "# scipy > stats: t검정에 사용됨...\n",
    "from scipy import stats\n",
    "import numpy"
   ]
  },
  {
   "cell_type": "code",
   "execution_count": 11,
   "id": "689590c4",
   "metadata": {},
   "outputs": [],
   "source": [
    "# 학생키에 대한 데이터 생성하기\n",
    "height_list = numpy.array([169,167,175,166,162,180,\n",
    "             172,162,173,162,181,175,181,\n",
    "             181,162,165,172,176,167,165])"
   ]
  },
  {
   "cell_type": "code",
   "execution_count": 12,
   "id": "d80f43e5",
   "metadata": {},
   "outputs": [
    {
     "data": {
      "text/plain": [
       "array([169, 167, 175, 166, 162, 180, 172, 162, 173, 162, 181, 175, 181,\n",
       "       181, 162, 165, 172, 176, 167, 165])"
      ]
     },
     "execution_count": 12,
     "metadata": {},
     "output_type": "execute_result"
    }
   ],
   "source": [
    "height_list"
   ]
  },
  {
   "cell_type": "code",
   "execution_count": 13,
   "id": "36d8c439",
   "metadata": {},
   "outputs": [],
   "source": [
    "# t-검정"
   ]
  },
  {
   "cell_type": "code",
   "execution_count": 14,
   "id": "e1733d2d",
   "metadata": {},
   "outputs": [],
   "source": [
    "tTestResult = stats.ttest_1samp(height_list, 170)"
   ]
  },
  {
   "cell_type": "code",
   "execution_count": 15,
   "id": "0ff7873b",
   "metadata": {},
   "outputs": [
    {
     "data": {
      "text/plain": [
       "Ttest_1sampResult(statistic=0.42270173526659166, pvalue=0.6772582597305596)"
      ]
     },
     "execution_count": 15,
     "metadata": {},
     "output_type": "execute_result"
    }
   ],
   "source": [
    "# statistic = 검정통계량\n",
    "# pvalue(p-value) = 유의수준\n",
    "# 170값 : 귀무가설에서 채택한 값\n",
    "#       : 집단의 키 평균은 170이다.\n",
    "\n",
    "# 대립가설 : 집단의 키 평균은 170이 아니야\n",
    "# t-검정의 목적 : 대립가설이 참인지 확인하는 것..\n",
    "# 확인은 -> p-value < 0.05 채택\n",
    "#           p-value >= 0.05 기각\n",
    "# 채택과 기각은 대립가설을 기준으로 합니다.\n",
    "\n",
    "tTestResult"
   ]
  },
  {
   "cell_type": "code",
   "execution_count": 16,
   "id": "a217a6eb",
   "metadata": {},
   "outputs": [
    {
     "name": "stdout",
     "output_type": "stream",
     "text": [
      "t검정통계량 = 0.423, p-value = 0.677\n"
     ]
    }
   ],
   "source": [
    "# %에다가 값을 넣겠다. 3f는 float데이터는 소수점 셋째자리까지\n",
    "print(\"t검정통계량 = %.3f, p-value = %.3f\" % (tTestResult))"
   ]
  },
  {
   "cell_type": "code",
   "execution_count": 17,
   "id": "69afbea8",
   "metadata": {},
   "outputs": [],
   "source": [
    "# 해석\n",
    "# 67% 정도 오차가있다.\n",
    "# statistic = 검정통계량 = 정확도\n",
    "# pvalue(p-value) = 유의수준 = 오차\n",
    "# 정확도 + 오차 = 1\n",
    "\n",
    "# t-검정을 통한 20개의 표본집단을 분석한 결과\n",
    "# 유의수준 0.05보다 크기 떄문에, 귀무가설을 채택합니다.\n",
    "# 집단의 키 평균은 170이 아니다."
   ]
  },
  {
   "cell_type": "code",
   "execution_count": 18,
   "id": "350d6ee3",
   "metadata": {},
   "outputs": [],
   "source": [
    "# 두집단"
   ]
  },
  {
   "cell_type": "code",
   "execution_count": 19,
   "id": "854dafb6",
   "metadata": {},
   "outputs": [],
   "source": [
    "import numpy\n",
    "from scipy import stats"
   ]
  },
  {
   "cell_type": "code",
   "execution_count": 20,
   "id": "1c87fece",
   "metadata": {},
   "outputs": [],
   "source": [
    "group1Heights = numpy.array([162,168,196,165,166,168,\n",
    "                            162,172,157,173,158,169,\n",
    "                            164,170,163,175,162,177,\n",
    "                            175,177])"
   ]
  },
  {
   "cell_type": "code",
   "execution_count": 21,
   "id": "ac5072fe",
   "metadata": {},
   "outputs": [
    {
     "data": {
      "text/plain": [
       "array([162, 168, 196, 165, 166, 168, 162, 172, 157, 173, 158, 169, 164,\n",
       "       170, 163, 175, 162, 177, 175, 177])"
      ]
     },
     "execution_count": 21,
     "metadata": {},
     "output_type": "execute_result"
    }
   ],
   "source": [
    "group1Heights"
   ]
  },
  {
   "cell_type": "code",
   "execution_count": 23,
   "id": "f0a7c35d",
   "metadata": {},
   "outputs": [],
   "source": [
    "group2Heights = numpy.array([180,181,163,164,174,169,\n",
    "                            164,172,162,171,180,168,\n",
    "                            164,169,178,177,167,179,\n",
    "                            172,169])"
   ]
  },
  {
   "cell_type": "code",
   "execution_count": 25,
   "id": "c909e674",
   "metadata": {},
   "outputs": [],
   "source": [
    "# 두집단간 평균비교\n",
    "tTestResult = stats.ttest_ind(group1Heights, group2Heights)"
   ]
  },
  {
   "cell_type": "code",
   "execution_count": 26,
   "id": "8e07864e",
   "metadata": {},
   "outputs": [
    {
     "data": {
      "text/plain": [
       "Ttest_indResult(statistic=-0.9131895816149502, pvalue=0.36690061947196717)"
      ]
     },
     "execution_count": 26,
     "metadata": {},
     "output_type": "execute_result"
    }
   ],
   "source": [
    "tTestResult"
   ]
  },
  {
   "cell_type": "code",
   "execution_count": 27,
   "id": "2f821cba",
   "metadata": {},
   "outputs": [],
   "source": [
    "# 대응되는 두 집단... 가중치 부여된 특정 집단과의 분석"
   ]
  },
  {
   "cell_type": "code",
   "execution_count": 28,
   "id": "3dced3a9",
   "metadata": {},
   "outputs": [],
   "source": [
    "import numpy\n",
    "from scipy import stats"
   ]
  },
  {
   "cell_type": "code",
   "execution_count": 32,
   "id": "0e0f5a07",
   "metadata": {},
   "outputs": [],
   "source": [
    "# 20개의 체중데이터\n",
    "beforeWeights = numpy.array([80,82,76,82,65,73,77,\n",
    "                            78,61,81,80,70,60,83,\n",
    "                            89,84,85,81,67,60])\n",
    "\n",
    "# 20개의 랜덤값 생성하기\n",
    "temp_list = []\n",
    "for i in beforeWeights:\n",
    "    # 랜덤한 가중치 부여\n",
    "    temp_list.append(i * numpy.random.normal(0.99, 0.02))\n",
    "    # 기준\n",
    "\n",
    "afterWeights = numpy.array(temp_list)\n",
    "\n",
    "tTestResult = stats.ttest_rel(beforeWeights, afterWeights)"
   ]
  },
  {
   "cell_type": "code",
   "execution_count": 33,
   "id": "2ba0a970",
   "metadata": {},
   "outputs": [
    {
     "data": {
      "text/plain": [
       "Ttest_relResult(statistic=0.6432765285883676, pvalue=0.527733005773227)"
      ]
     },
     "execution_count": 33,
     "metadata": {},
     "output_type": "execute_result"
    }
   ],
   "source": [
    "tTestResult"
   ]
  },
  {
   "cell_type": "markdown",
   "id": "5e6b09f1",
   "metadata": {},
   "source": [
    "### 장고(Django)\n",
    " #### 2003년에 lawrence journal-world newspaper에서 사용하기 위해 개발\n",
    " #### 파이썬으로 만들어진 무료 오픈소스 웹 애플리케이션 프레임워크"
   ]
  },
  {
   "cell_type": "markdown",
   "id": "16fd6cd1",
   "metadata": {},
   "source": [
    "### MTV패턴(Model, Template, View)\n",
    " #### Model : 데이터 처리(DB의 테이블)\n",
    " #### Template : 클라이언트에게 보여줄 UI(HTML, CSS, JavaScript)\n",
    " #### View : Controller 역할, 요청을 받은 후 모델을 실행한 후 응답\n",
    "\n",
    "### Model은 app/models.py 파일 내의 클래스 형식으로 작성\n",
    " #### 반드시 app 필요\n",
    "\n",
    "### Template은 templates 라는 디렉토리를 프로젝트 루트 또는 App 하위에 작성\n",
    " #### settings.py 설정 필요\n",
    " #### CSS, JavaScript 등 static 자원 사용시 static 함수 필요"
   ]
  },
  {
   "cell_type": "code",
   "execution_count": null,
   "id": "603f6757",
   "metadata": {},
   "outputs": [],
   "source": []
  }
 ],
 "metadata": {
  "kernelspec": {
   "display_name": "Python 3 (ipykernel)",
   "language": "python",
   "name": "python3"
  },
  "language_info": {
   "codemirror_mode": {
    "name": "ipython",
    "version": 3
   },
   "file_extension": ".py",
   "mimetype": "text/x-python",
   "name": "python",
   "nbconvert_exporter": "python",
   "pygments_lexer": "ipython3",
   "version": "3.9.7"
  }
 },
 "nbformat": 4,
 "nbformat_minor": 5
}
